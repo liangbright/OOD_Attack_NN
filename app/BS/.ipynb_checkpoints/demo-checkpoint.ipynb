{
 "cells": [
  {
   "cell_type": "markdown",
   "metadata": {},
   "source": [
    "# A Simple Demo of OOD Attack\n",
    "### Note: put this file \"demo.ipynb\" into the folder  OOD_Attack_NN/app/BS"
   ]
  },
  {
   "cell_type": "code",
   "execution_count": 1,
   "metadata": {},
   "outputs": [],
   "source": [
    "import sys\n",
    "sys.path.append('../../core')\n",
    "#%%\n",
    "import numpy as np\n",
    "import matplotlib.pyplot as plt\n",
    "import time\n",
    "import torch\n",
    "import torch.nn.functional as F\n",
    "import torchvision\n",
    "import torchvision.transforms as tv_transforms\n",
    "import skimage\n",
    "import skimage.io as io\n",
    "import skimage.transform as sk_transform\n",
    "import argparse\n",
    "from sklearn.metrics import roc_curve, roc_auc_score\n",
    "from RobustDNN_PGD_OOD import pgd_attack\n",
    "from Evaluate import test"
   ]
  },
  {
   "cell_type": "code",
   "execution_count": 2,
   "metadata": {},
   "outputs": [],
   "source": [
    "#%% you need to install or download the models from advertorch\n",
    "from advertorch_examples.models import get_cifar10_wrn28_widen_factor\n",
    "def Net(name):\n",
    "    return get_cifar10_wrn28_widen_factor(4)\n",
    "#%%\n",
    "def load_dataset(data_path, batch_size, num_workers):\n",
    "    dataset = torchvision.datasets.CIFAR10(root=data_path, download=True, train=False,\n",
    "                                           transform=tv_transforms.ToTensor())\n",
    "    loader = torch.utils.data.DataLoader(dataset,\n",
    "                                         batch_size=batch_size,\n",
    "                                         num_workers=num_workers,\n",
    "                                         shuffle=False)\n",
    "    return loader\n",
    "#%%\n",
    "def attack(model, x1, x2, noise_norm, norm_type, max_iter, step):\n",
    "    xn=pgd_attack(model, x1, None, x2,\n",
    "                  noise_norm=noise_norm, norm_type=norm_type,\n",
    "                  max_iter=max_iter, step=step, use_optimizer=True)\n",
    "    return xn\n",
    "#%%\n",
    "def compute_ood_score(model, x):\n",
    "    #An OOD sample should have a higher score\n",
    "    #x.shape  N x K\n",
    "    #N is number of data samples\n",
    "    #K is number of classes\n",
    "    x=model(x)\n",
    "    prob=F.softmax(x, dim=1)\n",
    "    MaxSoftmax=prob.max(dim=1)[0]\n",
    "    MaxSoftmax=MaxSoftmax.detach().cpu().numpy()\n",
    "    score=1-MaxSoftmax\n",
    "    return score\n",
    "#%%\n",
    "def plot_ood(OODScoreIn, OODScoreOut, ax=None):\n",
    "    label_out=np.ones(OODScoreOut.shape)\n",
    "    label_in=np.zeros(OODScoreIn.shape)\n",
    "    label=np.concatenate([label_out, label_in])\n",
    "    score21=np.concatenate([OODScoreOut, OODScoreIn])\n",
    "    fpr, tpr, thresholds = roc_curve(label, score21, pos_label=1)\n",
    "    auc_ood=roc_auc_score(label, score21)\n",
    "    print('auc_ood', auc_ood)\n",
    "    if ax is None:\n",
    "        fig, ax = plt.subplots()\n",
    "    ax.set_xlim(0, 1);\n",
    "    ax.set_ylim(0, 1.01);\n",
    "    ax.grid(True)\n",
    "    ax.plot(fpr, tpr)\n",
    "    #ax.set_yticks(np.arange(0, 1.05, step=0.05));\n",
    "    ax.set_title('AUC='+ '{:.3f}'.format(auc_ood))\n",
    "    ax.set_aspect('equal')\n",
    "    plt.show()\n",
    "    return ax.figure, ax, auc_ood"
   ]
  },
  {
   "cell_type": "code",
   "execution_count": 3,
   "metadata": {},
   "outputs": [],
   "source": [
    "#parser = argparse.ArgumentParser(description='Input Parameters:')\n",
    "#parser.add_argument('--cuda_id', default=0, type=int)\n",
    "#parser.add_argument('--net_name', default='wrn', type=str)\n",
    "#parser.add_argument('--ood_name', default='color-spiral-1', type=str)\n",
    "#arg = parser.parse_args()\n",
    "class ARG:\n",
    "    def __init__(self):\n",
    "        self.cuda_id=0\n",
    "        self.net_name='wrn'\n",
    "        self.ood_name='color-spiral-1'\n",
    "arg=ARG()"
   ]
  },
  {
   "cell_type": "code",
   "execution_count": 10,
   "metadata": {
    "scrolled": false
   },
   "outputs": [],
   "source": [
    "device=torch.device('cuda:'+str(arg.cuda_id) if torch.cuda.is_available() else \"cpu\")\n",
    "net_name=arg.net_name\n",
    "ood_name=arg.ood_name\n",
    "#-------------------------------------------\n",
    "model = Net(net_name)\n",
    "model.load_state_dict(torch.load('CIFAR10_mmacifar10_ce_SGD_epoch199.pt')['model_state_dict'])\n",
    "model.eval()\n",
    "model.to(device);"
   ]
  },
  {
   "cell_type": "code",
   "execution_count": 5,
   "metadata": {},
   "outputs": [
    {
     "name": "stdout",
     "output_type": "stream",
     "text": [
      "Files already downloaded and verified\n"
     ]
    }
   ],
   "source": [
    "loader=load_dataset('data', 128, 0)\n",
    "#%% test acc 0.9402\n",
    "#result_test=test(model, device, loader, 10)"
   ]
  },
  {
   "cell_type": "code",
   "execution_count": 6,
   "metadata": {},
   "outputs": [
    {
     "name": "stderr",
     "output_type": "stream",
     "text": [
      "C:\\Programs\\anaconda3\\envs\\pytorch1.8\\lib\\site-packages\\ipykernel_launcher.py:4: UserWarning: To copy construct from a tensor, it is recommended to use sourceTensor.clone().detach() or sourceTensor.clone().detach().requires_grad_(True), rather than torch.tensor(sourceTensor).\n",
      "  after removing the cwd from sys.path.\n"
     ]
    },
    {
     "name": "stdout",
     "output_type": "stream",
     "text": [
      "ood_score_x1 [6.4373016e-06]\n"
     ]
    },
    {
     "data": {
      "image/png": "[encoded data removed]",
      "text/plain": [
       "<Figure size 432x288 with 1 Axes>"
      ]
     },
     "metadata": {
      "needs_background": "light"
     },
     "output_type": "display_data"
    }
   ],
   "source": [
    "#get an IND sample, idx=1, 10, 100\n",
    "idx1=11\n",
    "x1=loader.dataset[idx1][0]\n",
    "x1=torch.tensor(x1.reshape(1,3,32,32), device=device).contiguous()\n",
    "xx1=x1.detach().cpu().numpy().reshape(3,32,32).transpose(1,2,0)\n",
    "plt.imshow(xx1)\n",
    "ood_score_x1 = compute_ood_score(model, x1)\n",
    "print('ood_score_x1', ood_score_x1)"
   ]
  },
  {
   "cell_type": "code",
   "execution_count": 7,
   "metadata": {},
   "outputs": [
    {
     "name": "stdout",
     "output_type": "stream",
     "text": [
      "ood_score_x2 [0.00197035]\n"
     ]
    },
    {
     "data": {
      "image/png": "[encoded data removed]",
      "text/plain": [
       "<Figure size 432x288 with 1 Axes>"
      ]
     },
     "metadata": {
      "needs_background": "light"
     },
     "output_type": "display_data"
    }
   ],
   "source": [
    "#generate the initial OOD sample: rand or color-spiral-1\n",
    "if ood_name != 'rand':\n",
    "    x2=io.imread('../../data/'+ood_name+'.jpg')\n",
    "    x2=skimage.util.img_as_float32(x2)\n",
    "    x2=sk_transform.resize(x2, [32,32])\n",
    "    x2=(x2-x2.min())/(x2.max()-x2.min())\n",
    "    x2=x2.transpose(2,0,1)\n",
    "else:\n",
    "     x2=np.random.rand(3,32,32).astype('float32')\n",
    "x2=torch.tensor(x2.reshape(1,3,32,32), device=device).contiguous()\n",
    "xx2=x2.detach().cpu().numpy().reshape(3,32,32).transpose(1,2,0)\n",
    "plt.imshow(xx2, cmap='gray')\n",
    "ood_score_x2 = compute_ood_score(model, x2)\n",
    "print('ood_score_x2', ood_score_x2)"
   ]
  },
  {
   "cell_type": "code",
   "execution_count": 8,
   "metadata": {},
   "outputs": [
    {
     "name": "stdout",
     "output_type": "stream",
     "text": [
      "MAPE 0.003392489394173026\n",
      "ood_score_xn [6.4373016e-06]\n",
      "time cost: 2.226752996444702\n",
      "norm: 9.994126319885254\n"
     ]
    }
   ],
   "source": [
    "#perform OOD attack\n",
    "start = time.time()\n",
    "noise_norm=10\n",
    "norm_type=2\n",
    "max_iter=100\n",
    "step=noise_norm/100\n",
    "xn=attack(model, x1, x2, noise_norm, norm_type, max_iter, step)\n",
    "zn=model(xn)\n",
    "z1=model(x1).detach()\n",
    "z2=model(x2).detach()\n",
    "MAPE = (torch.mean(torch.abs(zn-z1))/torch.max(torch.abs(z1))).item()\n",
    "print('MAPE', MAPE)\n",
    "ood_score_xn = compute_ood_score(model, xn)\n",
    "print('ood_score_xn', ood_score_xn)\n",
    "end = time.time()\n",
    "print('time cost:', end - start)\n",
    "print('norm:', torch.norm(xn-x2, p=norm_type).item())"
   ]
  },
  {
   "cell_type": "code",
   "execution_count": 9,
   "metadata": {},
   "outputs": [
    {
     "data": {
      "text/plain": [
       "<matplotlib.image.AxesImage at 0x1fa92dccac8>"
      ]
     },
     "execution_count": 9,
     "metadata": {},
     "output_type": "execute_result"
    },
    {
     "data": {
      "image/png": "[encoded data removed]",
      "text/plain": [
       "<Figure size 720x432 with 6 Axes>"
      ]
     },
     "metadata": {
      "needs_background": "light"
     },
     "output_type": "display_data"
    }
   ],
   "source": [
    "fig, ax =plt.subplots(2,3, figsize=(10, 6))\n",
    "ax[0,0].plot(z1.squeeze().detach().cpu().numpy(), '.')\n",
    "ax[0,1].plot(z1.squeeze().detach().cpu().numpy(), '.')\n",
    "ax[0,1].plot(z2.squeeze().detach().cpu().numpy(), 'or', fillstyle='none');\n",
    "ax[0,2].plot(z1.squeeze().detach().cpu().numpy(), '.')\n",
    "ax[0,2].plot(zn.squeeze().detach().cpu().numpy(), 'or', fillstyle='none');\n",
    "ax[0,1].set_title('MAPE '+str(MAPE))\n",
    "ax[1,0].imshow(x1.squeeze().detach().cpu().numpy().transpose(1,2,0))\n",
    "ax[1,1].imshow(x2.squeeze().detach().cpu().numpy().transpose(1,2,0))\n",
    "ax[1,2].imshow(xn.squeeze().detach().cpu().numpy().transpose(1,2,0))"
   ]
  },
  {
   "cell_type": "code",
   "execution_count": null,
   "metadata": {},
   "outputs": [],
   "source": []
  }
 ],
 "metadata": {
  "kernelspec": {
   "display_name": "Python 3",
   "language": "python",
   "name": "python3"
  },
  "language_info": {
   "codemirror_mode": {
    "name": "ipython",
    "version": 3
   },
   "file_extension": ".py",
   "mimetype": "text/x-python",
   "name": "python",
   "nbconvert_exporter": "python",
   "pygments_lexer": "ipython3",
   "version": "3.7.9"
  }
 },
 "nbformat": 4,
 "nbformat_minor": 4
}
